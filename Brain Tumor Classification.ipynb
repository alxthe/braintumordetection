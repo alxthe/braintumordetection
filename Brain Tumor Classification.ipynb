{
  "cells": [
    {
      "cell_type": "markdown",
      "metadata": {
        "id": "Q5NP-I1xZgoP"
      },
      "source": [
        "# Importing necessary libraries"
      ]
    },
    {
      "cell_type": "code",
      "execution_count": null,
      "metadata": {
        "id": "Qfss-mIRW62K"
      },
      "outputs": [],
      "source": [
        "import numpy as np\n",
        "import torch\n",
        "from torch.utils.data import Dataset, DataLoader, ConcatDataset\n",
        "import glob\n",
        "import matplotlib.pyplot as plt\n",
        "from sklearn.metrics import confusion_matrix, accuracy_score\n",
        "import cv2\n",
        "import sys"
      ]
    },
    {
      "cell_type": "markdown",
      "metadata": {
        "id": "enXlyyjUZjay"
      },
      "source": [
        "# Reading the Images (Data Preprocessing)"
      ]
    },
    {
      "cell_type": "code",
      "execution_count": null,
      "metadata": {
        "id": "9y5ZoHzQZkWn"
      },
      "outputs": [],
      "source": [
        "tumor = [] #brain with a tumor\n",
        "healthybrain = [] #brain with no tumor\n",
        "for f in glob.iglob(\"/Users/alexandermathew/Downloads/Brain_Tumor_Classifier/bimages/yes/*.jpg\"): #reading in images\n",
        "  img = cv2.imread(f) #reading images using cv2\n",
        "  img = cv2.resize(img, (128,128)) #resizing images using cv2\n",
        "  b, g, r = cv2.split(img) #splitting images into respective channels using cv2 (128x128). result in 3 images\n",
        "  img = cv2.merge([r, g, b])\n",
        "  tumor.append(img)\n",
        "\n",
        "for f in glob.iglob(\"/Users/alexandermathew/Downloads/Brain_Tumor_Classifier/bimages/no/*.jpg\"): #reading in images\n",
        "  img = cv2.imread(f) #reading images using cv2\n",
        "  img = cv2.resize(img, (128,128)) #resizing images using cv2\n",
        "  b,g,r = cv2.split(img) #splitting images into respective channels using cv2 (128x128). result in 3 images\n",
        "  img = cv2.merge([r, g, b])\n",
        "  healthybrain.append(img)"
      ]
    },
    {
      "cell_type": "code",
      "execution_count": null,
      "metadata": {
        "id": "Jfu15YiSLppB"
      },
      "outputs": [],
      "source": [
        "healthybrain = np.array(healthybrain)\n",
        "tumor = np.array(tumor)\n",
        "#turning both into numpy arrays. .shape shows amnt of images, rows and colums of pixels, and channels of rgb\n",
        "All = np.concatenate((healthybrain, tumor))"
      ]
    },
    {
      "cell_type": "code",
      "execution_count": null,
      "metadata": {
        "colab": {
          "base_uri": "https://localhost:8080/"
        },
        "id": "RFJz4-QHdbJD",
        "outputId": "80dd6412-83e0-4e47-97bb-1aa00465ce2d"
      },
      "outputs": [],
      "source": [
        "healthybrain.shape"
      ]
    },
    {
      "cell_type": "code",
      "execution_count": null,
      "metadata": {
        "colab": {
          "base_uri": "https://localhost:8080/"
        },
        "id": "8vxVbp_idbZq",
        "outputId": "c82d8f01-6db7-4454-8bfe-300b849aeb8c"
      },
      "outputs": [],
      "source": [
        "tumor.shape"
      ]
    },
    {
      "cell_type": "code",
      "execution_count": null,
      "metadata": {
        "colab": {
          "base_uri": "https://localhost:8080/"
        },
        "id": "ICXhRyTddbfs",
        "outputId": "af7c3189-816d-411e-dbe8-05308f31910e"
      },
      "outputs": [],
      "source": [
        "np.random.choice(10, 5, replace=False)"
      ]
    },
    {
      "cell_type": "markdown",
      "metadata": {
        "id": "hKd5UgaMN7Um"
      },
      "source": [
        "# Visualizing MRI Images"
      ]
    },
    {
      "cell_type": "code",
      "execution_count": null,
      "metadata": {
        "id": "gyuYQg4eP7Cb"
      },
      "outputs": [],
      "source": [
        "def plot_random(healthybrain, tumor, num=5): #creating a for loop to plot 5 random healthy and tumor images\n",
        "  healthybrain_imgs = healthybrain[np.random.choice(healthybrain.shape[0], num, replace=False)]\n",
        "  tumor_imgs = tumor[np.random.choice(tumor.shape[0], num, replace=False)]\n",
        "\n",
        "  plt.figure(figsize=(16,9)) #making a plot\n",
        "  for i in range(num):\n",
        "    plt.subplot(1, num, i+1)\n",
        "    plt.title('healthy brain')\n",
        "    plt.imshow(healthybrain_imgs[i])\n",
        "\n",
        "  plt.figure(figsize=(16,9))\n",
        "  for i in range(num):\n",
        "    plt.subplot(1, num, i+1)\n",
        "    plt.title('tumor')\n",
        "    plt.imshow(tumor_imgs[i])\n"
      ]
    },
    {
      "cell_type": "code",
      "execution_count": null,
      "metadata": {
        "colab": {
          "base_uri": "https://localhost:8080/",
          "height": 575
        },
        "id": "VqXB2xveTdPY",
        "outputId": "355747dd-c442-4798-ef44-8ca6690ac58b"
      },
      "outputs": [],
      "source": [
        "plot_random(healthybrain, tumor)"
      ]
    },
    {
      "cell_type": "markdown",
      "metadata": {
        "id": "53x9NURzWanE"
      },
      "source": [
        "# Creating Pytorch abstract dataset Class and MRI custom dataset class"
      ]
    },
    {
      "cell_type": "code",
      "execution_count": null,
      "metadata": {
        "id": "wwvoYzM_kfiO"
      },
      "outputs": [],
      "source": [
        "class Dataset(object): #abstract class representing a dataset\n",
        "\n",
        "  def __getitem___(self, index):\n",
        "    raise NotImplementedError\n",
        "\n",
        "  def __len__(self):\n",
        "    raise NotImplementedError\n",
        "\n",
        "  def __add__(self, other):\n",
        "    return ConcatDataset([self, other]) #needs ConcatDataset to concatenate two objects"
      ]
    },
    {
      "cell_type": "code",
      "execution_count": null,
      "metadata": {
        "id": "mxTrLfwGWZwf"
      },
      "outputs": [],
      "source": [
        "class MRI(Dataset): #inheriting Dataset class\n",
        "  def __init__(self): #constructor\n",
        "\n",
        "    tumor = []\n",
        "    healthybrain = []\n",
        "    # cv2 - It reads in BGR format by default\n",
        "    for f in glob.iglob(\"/Users/alexandermathew/Downloads/Brain_Tumor_Classifier/bimages/yes/*.jpg\"):\n",
        "      img = cv2.imread(f)\n",
        "      img = cv2.resize(img,(128,128))\n",
        "      b, g, r = cv2.split(img)\n",
        "      img = cv2.merge([r,g,b])\n",
        "      img = img.reshape((img.shape[2],img.shape[0],img.shape[1])) # otherwise the shape will be (h,w,#channels)\n",
        "      tumor.append(img)\n",
        "\n",
        "    for f in glob.iglob(\"/Users/alexandermathew/Downloads/Brain_Tumor_Classifier/bimages/no/*.jpg\"):\n",
        "      img = cv2.imread(f)\n",
        "      img = cv2.resize(img,(128,128))\n",
        "      b, g, r = cv2.split(img)\n",
        "      img = cv2.merge([r,g,b])\n",
        "      img = img.reshape((img.shape[2],img.shape[0],img.shape[1]))\n",
        "      healthybrain.append(img)\n",
        "\n",
        "    # our images\n",
        "    tumor = np.array(tumor,dtype=np.float32)\n",
        "    healthybrain = np.array(healthybrain,dtype=np.float32)\n",
        "\n",
        "    # our labels\n",
        "    tumor_label = np.ones(tumor.shape[0], dtype=np.float32)\n",
        "    healthybrain_label = np.zeros(healthybrain.shape[0], dtype=np.float32)\n",
        "\n",
        "    # Concatenate\n",
        "    self.images = np.concatenate((tumor, healthybrain), axis=0)\n",
        "    self.labels = np.concatenate((tumor_label, healthybrain_label))\n",
        "\n",
        "  def __len__(self):\n",
        "    return self.images.shape[0] # how many images = length\n",
        "\n",
        "  def __getitem__(self, index):\n",
        "    sample = {'image': self.images[index], 'label':self.labels[index]}\n",
        "    return sample\n",
        "\n",
        "  def normalize(self):\n",
        "    self.images = self.images/255.0\n",
        "\n"
      ]
    },
    {
      "cell_type": "code",
      "execution_count": null,
      "metadata": {
        "id": "GRgvmjQf-orv"
      },
      "outputs": [],
      "source": [
        "mri_dataset = MRI()\n",
        "mri_dataset.normalize()"
      ]
    },
    {
      "cell_type": "markdown",
      "metadata": {
        "id": "RuJUCjrkvpEL"
      },
      "source": [
        "# Creating a dataloader"
      ]
    },
    {
      "cell_type": "code",
      "execution_count": null,
      "metadata": {
        "colab": {
          "base_uri": "https://localhost:8080/",
          "height": 1000
        },
        "id": "ejMWqyIXvrhb",
        "outputId": "25e2b408-325d-40b7-cf7d-31e7d2b73068"
      },
      "outputs": [],
      "source": [
        "# What is a dataloader? A dataloader is n objet that allows you to iterate through your dataset easily, you can easily shuffle through data\n",
        "# The importance of a dataloader: provides an efficient way to load data into a model for training, doesn't use a lot of CPU\n",
        "# Below is a more efficient way of iterating through the dataset (using a dataloader) than using for loops and next/iter commands\n",
        "names={0:'Heathy Brain', 1:'Tumor'}\n",
        "dataloader = DataLoader(mri_dataset, shuffle=True)\n",
        "for i, sample in enumerate(dataloader):\n",
        "    img = sample['image'].squeeze()\n",
        "    img = img.reshape((img.shape[1], img.shape[2], img.shape[0]))\n",
        "    plt.title(names[sample['label'].item()])\n",
        "    plt.imshow(img)\n",
        "    plt.show()\n",
        "    if i == 5:\n",
        "        break #DEBUG"
      ]
    },
    {
      "cell_type": "markdown",
      "metadata": {
        "id": "XxQHaIslOOS4"
      },
      "source": [
        "# Creating the model"
      ]
    },
    {
      "cell_type": "code",
      "execution_count": null,
      "metadata": {
        "id": "ZAPud_S7OP3k"
      },
      "outputs": [],
      "source": [
        "import torch.nn as nn\n",
        "import torch.nn.functional as F\n",
        "\n",
        "class CNN(nn.Module):\n",
        "    def __init__(self):\n",
        "        super(CNN,self).__init__()\n",
        "        self.cnn_model = nn.Sequential(\n",
        "        nn.Conv2d(in_channels=3, out_channels=6, kernel_size=5),\n",
        "        nn.Tanh(),\n",
        "        nn.AvgPool2d(kernel_size=2, stride=5),\n",
        "        nn.Conv2d(in_channels=6, out_channels=16, kernel_size=5),\n",
        "        nn.Tanh(),\n",
        "        nn.AvgPool2d(kernel_size=2, stride=5))\n",
        "        \n",
        "        self.fc_model = nn.Sequential(\n",
        "        nn.Linear(in_features=256, out_features=120),\n",
        "        nn.Tanh(),\n",
        "        nn.Linear(in_features=120, out_features=84),\n",
        "        nn.Tanh(),\n",
        "        nn.Linear(in_features=84, out_features=1))\n",
        "        \n",
        "    def forward(self, x):\n",
        "        x = self.cnn_model(x)\n",
        "        x = x.view(x.size(0), -1)\n",
        "        x = self.fc_model(x)\n",
        "        x = F.sigmoid(x)\n",
        "        \n",
        "        return x"
      ]
    },
    {
      "cell_type": "markdown",
      "metadata": {
        "id": "LNRz8_HWc1I3"
      },
      "source": [
        "torch.tensor vs. torch.cuda.tensor"
      ]
    },
    {
      "cell_type": "code",
      "execution_count": null,
      "metadata": {
        "colab": {
          "base_uri": "https://localhost:8080/"
        },
        "id": "LBto1nDacwQd",
        "outputId": "3655ffc5-5bfa-4a37-9a06-83e8a9ba2674"
      },
      "outputs": [],
      "source": [
        "# device will be 'cuda' if a GPU is available\n",
        "device = torch.device('cuda' if torch.cuda.is_available() else 'cpu')\n",
        "\n",
        "# creating a CPU tensor\n",
        "cpu_tensor = torch.rand(10).to(device)\n",
        "# moving same tensor to GPU\n",
        "gpu_tensor = cpu_tensor.to(device)\n",
        "\n",
        "print(cpu_tensor, cpu_tensor.dtype, type(cpu_tensor), cpu_tensor.type())\n",
        "print(gpu_tensor, gpu_tensor.dtype, type(gpu_tensor), gpu_tensor.type())\n",
        "\n",
        "print(cpu_tensor*gpu_tensor)"
      ]
    },
    {
      "cell_type": "markdown",
      "metadata": {
        "id": "d6Q74-poAGX6"
      },
      "source": [
        "# Evaluating a New-Born Neural Network!"
      ]
    },
    {
      "cell_type": "code",
      "execution_count": null,
      "metadata": {
        "id": "ziN5TcBQALIH"
      },
      "outputs": [],
      "source": [
        "mri_dataset = MRI()\n",
        "mri_dataset.normalize()\n",
        "device = torch.device('cpu')\n",
        "model = CNN().to(device)"
      ]
    },
    {
      "cell_type": "code",
      "execution_count": null,
      "metadata": {
        "id": "Un0uT7iPfohQ"
      },
      "outputs": [],
      "source": [
        "def threshold(scores,threshold=0.50, minimum=0, maximum = 1.0):\n",
        "    x = np.array(list(scores))\n",
        "    x[x >= threshold] = maximum\n",
        "    x[x < threshold] = minimum\n",
        "    return x\n"
      ]
    },
    {
      "cell_type": "code",
      "execution_count": null,
      "metadata": {
        "id": "9rGwHPkGcjBU"
      },
      "outputs": [],
      "source": [
        "model.eval()\n",
        "dataloader = DataLoader(mri_dataset, batch_size=32, shuffle=False)\n",
        "outputs=[]\n",
        "y_true = []\n",
        "with torch.no_grad():\n",
        "    for D in dataloader:\n",
        "        image =  D['image'].to(device)\n",
        "        label = D['label'].to(device)\n",
        "\n",
        "        y_hat = model(image)\n",
        "\n",
        "        outputs.append(y_hat.cpu().detach().numpy())\n",
        "        y_true.append(label.cpu().detach().numpy())\n",
        "\n",
        "outputs = np.concatenate( outputs, axis=0 )\n",
        "y_true = np.concatenate( y_true, axis=0 )\n"
      ]
    },
    {
      "cell_type": "code",
      "execution_count": null,
      "metadata": {
        "colab": {
          "base_uri": "https://localhost:8080/"
        },
        "id": "V0lYwbsPfOQs",
        "outputId": "63bbbe4d-1e3c-414c-e164-a5f51197516e"
      },
      "outputs": [],
      "source": [
        "accuracy_score(y_true, threshold(outputs))"
      ]
    },
    {
      "cell_type": "code",
      "execution_count": null,
      "metadata": {
        "colab": {
          "base_uri": "https://localhost:8080/",
          "height": 813
        },
        "id": "NxJ_4A3WfcXZ",
        "outputId": "1c52c326-775d-4b3b-fbab-316e4aa76096"
      },
      "outputs": [],
      "source": [
        "import seaborn as sns\n",
        "\n",
        "cm = confusion_matrix(y_true, threshold(outputs))\n",
        "plt.figure(figsize=(16,9))\n",
        "\n",
        "ax= plt.subplot()\n",
        "sns.heatmap(cm, annot=True, fmt='g', ax=ax);  #annot=True to annotate cells, ftm='g' to disable scientific notation\n",
        "\n",
        "# labels, title and ticks\n",
        "ax.set_xlabel('Predicted labels');ax.set_ylabel('True labels');\n",
        "ax.set_title('Confusion Matrix');\n",
        "ax.xaxis.set_ticklabels(['Tumor','Healthy'])\n",
        "ax.yaxis.set_ticklabels(['Tumor','Healthy'])\n"
      ]
    },
    {
      "cell_type": "code",
      "execution_count": null,
      "metadata": {
        "colab": {
          "base_uri": "https://localhost:8080/",
          "height": 753
        },
        "id": "36lpwZeAf535",
        "outputId": "eb81258e-0ca6-4796-aa16-f72f4e0d0409"
      },
      "outputs": [],
      "source": [
        "plt.figure(figsize=(16,9))\n",
        "plt.plot(outputs)\n",
        "plt.axvline(x=len(tumor), color='r', linestyle='--')\n",
        "plt.grid()"
      ]
    },
    {
      "cell_type": "markdown",
      "metadata": {
        "id": "B4qyW15DiQPr"
      },
      "source": [
        "# Visualising the Feature Maps of the Convolutional Filters"
      ]
    },
    {
      "cell_type": "code",
      "execution_count": null,
      "metadata": {
        "colab": {
          "base_uri": "https://localhost:8080/"
        },
        "id": "_atsebgGiPkw",
        "outputId": "afcf97f5-b26f-4d3d-e75e-63f3f04e2f08"
      },
      "outputs": [],
      "source": [
        "model"
      ]
    },
    {
      "cell_type": "code",
      "execution_count": null,
      "metadata": {
        "id": "MGadq7crihbl"
      },
      "outputs": [],
      "source": [
        "no_of_layers = 0\n",
        "conv_layers = []"
      ]
    },
    {
      "cell_type": "code",
      "execution_count": null,
      "metadata": {
        "colab": {
          "base_uri": "https://localhost:8080/"
        },
        "id": "wIjDE6hPikgC",
        "outputId": "036a4912-3ab2-4242-d3be-fe17ae3b8415"
      },
      "outputs": [],
      "source": [
        "model_children = list(model.children())\n",
        "model_children"
      ]
    },
    {
      "cell_type": "code",
      "execution_count": null,
      "metadata": {
        "id": "KNEDqYK4iugn"
      },
      "outputs": [],
      "source": [
        "for child in model_children:\n",
        "  if type(child) == nn.Sequential:\n",
        "    for layer in child.children():\n",
        "      if type(layer) == nn.Conv2d:\n",
        "        no_of_layers += 1\n",
        "        conv_layers.append(layer)"
      ]
    },
    {
      "cell_type": "code",
      "execution_count": null,
      "metadata": {
        "colab": {
          "base_uri": "https://localhost:8080/"
        },
        "id": "V_lY35u4iqbQ",
        "outputId": "092cb9e6-3c25-486d-f074-bc9ba7fabbd8"
      },
      "outputs": [],
      "source": [
        "conv_layers"
      ]
    },
    {
      "cell_type": "code",
      "execution_count": null,
      "metadata": {
        "colab": {
          "base_uri": "https://localhost:8080/",
          "height": 452
        },
        "id": "Hn9WLlqoi9kq",
        "outputId": "3ede95cb-532f-4ec8-b8b3-641af674b831"
      },
      "outputs": [],
      "source": [
        "img = mri_dataset[100]['image']\n",
        "plt.imshow(img.reshape(128,128,3))"
      ]
    },
    {
      "cell_type": "code",
      "execution_count": null,
      "metadata": {
        "colab": {
          "base_uri": "https://localhost:8080/"
        },
        "id": "02M8xVWZjHbf",
        "outputId": "7be8a76a-c6da-4abc-fcfd-0dadf1e1ca44"
      },
      "outputs": [],
      "source": [
        "img = torch.from_numpy(img).to(device)\n",
        "img.shape"
      ]
    },
    {
      "cell_type": "code",
      "execution_count": null,
      "metadata": {
        "id": "MB8rc4GyF3Wt"
      },
      "outputs": [],
      "source": [
        "img = img.squeeze(0)\n",
        "img.shape"
      ]
    },
    {
      "cell_type": "code",
      "execution_count": null,
      "metadata": {},
      "outputs": [],
      "source": [
        "results = [conv_layers[0](img)]\n",
        "for i in range(1, len(conv_layers)):\n",
        "    results.append(conv_layers[i](results[-1]))\n",
        "outputs = results\n"
      ]
    },
    {
      "cell_type": "code",
      "execution_count": null,
      "metadata": {},
      "outputs": [],
      "source": [
        "for num_layer in range(len(outputs)):\n",
        "    plt.figure(figsize=(50, 10))\n",
        "    layer_viz = outputs[num_layer].squeeze()\n",
        "    print(\"Layer \",num_layer+1)\n",
        "    for i, f in enumerate(layer_viz):\n",
        "        plt.subplot(2, 8, i + 1)\n",
        "        plt.imshow(f.detach().cpu().numpy())\n",
        "        plt.axis(\"off\")\n",
        "    plt.show()\n",
        "    plt.close()"
      ]
    },
    {
      "cell_type": "markdown",
      "metadata": {},
      "source": [
        "# Are We Over-fitting?"
      ]
    },
    {
      "cell_type": "markdown",
      "metadata": {},
      "source": [
        "Preparing a validation set: We need to change the MRI dataset slightly!\n",
        "We will need to make changes to our MRI dataset class:\n",
        "\n",
        "- Define a function to divide the data into train and validation sets\n",
        "- Define a variable called mode to determine whether we are interested in the training OR validation data\n",
        "- Change len() and getitem() functions and conditioned over the variable mode"
      ]
    },
    {
      "cell_type": "code",
      "execution_count": null,
      "metadata": {},
      "outputs": [],
      "source": [
        "# Import train/test split function from sklearn\n",
        "from sklearn.model_selection import train_test_split"
      ]
    },
    {
      "cell_type": "code",
      "execution_count": null,
      "metadata": {},
      "outputs": [],
      "source": [
        "class MRI(Dataset):\n",
        "    \n",
        "    def __init__(self):\n",
        "        \n",
        "        # Variables to hold the Training data and Validation data\n",
        "        self.X_train, self.y_train, self.X_val, self.y_val = None, None, None, None\n",
        "        \n",
        "        # A variable to determine if we are interested in retrieving the training OR the validation data\n",
        "        self.mode = 'train'\n",
        "        \n",
        "        tumor = []\n",
        "        healthybrain = []\n",
        "        # cv2 - It reads in BGR format by default\n",
        "        for f in glob.iglob(\"/Users/alexandermathew/Downloads/Brain_Tumor_Classifier/bimages/yes/*.jpg\"):\n",
        "            img = cv2.imread(f)\n",
        "            img = cv2.resize(img,(128,128)) # I can add this later in the boot-camp for more adventure\n",
        "            b, g, r = cv2.split(img)\n",
        "            img = cv2.merge([r,g,b])\n",
        "            img = img.reshape((img.shape[2],img.shape[0],img.shape[1])) # otherwise the shape will be (h,w,#channels)\n",
        "            tumor.append(img)\n",
        "\n",
        "        for f in glob.iglob(\"/Users/alexandermathew/Downloads/Brain_Tumor_Classifier/bimages/no/*.jpg\"):\n",
        "            img = cv2.imread(f)\n",
        "            img = cv2.resize(img,(128,128)) \n",
        "            b, g, r = cv2.split(img)\n",
        "            img = cv2.merge([r,g,b])\n",
        "            img = img.reshape((img.shape[2],img.shape[0],img.shape[1]))\n",
        "            healthybrain.append(img)\n",
        "\n",
        "        # our images\n",
        "        tumor = np.array(tumor,dtype=np.float32)\n",
        "        healthybrain = np.array(healthybrain,dtype=np.float32)\n",
        "        \n",
        "        # our labels\n",
        "        tumor_label = np.ones(tumor.shape[0], dtype=np.float32)\n",
        "        healthy_label = np.zeros(healthybrain.shape[0], dtype=np.float32)\n",
        "        \n",
        "        # Concatenates\n",
        "        self.images = np.concatenate((tumor, healthybrain), axis=0)\n",
        "        self.labels = np.concatenate((tumor_label, healthy_label))\n",
        "    \n",
        "    # Define a function that would separate the data into Training and Validation sets (NEW FROM OLD MRI CLASS)\n",
        "    def train_val_split(self):\n",
        "        self.X_train, self.X_val, self.y_train, self.y_val = \\\n",
        "        train_test_split(self.images, self.labels, test_size=0.20, random_state=42) \n",
        "        \n",
        "    def __len__(self):\n",
        "        # Use self.mode to determine whether train or val data is of interest (UPDATED FROM OLD MRI CLASS)\n",
        "        if self.mode == 'train':\n",
        "            return self.X_train.shape[0]\n",
        "        elif self.mode == 'val':\n",
        "            return self.X_val.shape[0]\n",
        "    \n",
        "    def __getitem__(self, idx):\n",
        "        # Use self.mode to determine whether train or val data is of interest (UPDATED FROM OLD MRI CLASS)\n",
        "        if self.mode== 'train':\n",
        "            sample = {'image': self.X_train[idx], 'label': self.y_train[idx]}\n",
        "        \n",
        "        elif self.mode== 'val':\n",
        "            sample = {'image': self.X_val[idx], 'label': self.y_val[idx]}\n",
        "        \n",
        "        return sample\n",
        "    \n",
        "    def normalize(self):\n",
        "        self.images = self.images/255.0"
      ]
    },
    {
      "cell_type": "code",
      "execution_count": null,
      "metadata": {},
      "outputs": [],
      "source": [
        "mri_dataset = MRI()\n",
        "mri_dataset.normalize()\n",
        "mri_dataset.train_val_split()"
      ]
    },
    {
      "cell_type": "code",
      "execution_count": null,
      "metadata": {},
      "outputs": [],
      "source": [
        "train_dataloader = DataLoader(mri_dataset, batch_size=32, shuffle=True)\n",
        "val_dataloader = DataLoader(mri_dataset, batch_size=32, shuffle=False)"
      ]
    },
    {
      "cell_type": "code",
      "execution_count": null,
      "metadata": {},
      "outputs": [],
      "source": [
        "device = torch.device(\"cpu\")\n",
        "model = CNN().to(device)"
      ]
    },
    {
      "cell_type": "code",
      "execution_count": null,
      "metadata": {},
      "outputs": [],
      "source": [
        "eta=0.0001\n",
        "optimizer = torch.optim.Adam(model.parameters(), lr=eta)"
      ]
    },
    {
      "cell_type": "code",
      "execution_count": null,
      "metadata": {},
      "outputs": [],
      "source": [
        "# keep track of epoch losses\n",
        "epoch_train_loss = []\n",
        "epoch_val_loss = []"
      ]
    },
    {
      "cell_type": "code",
      "execution_count": null,
      "metadata": {},
      "outputs": [],
      "source": [
        "for epoch in range(1,600):\n",
        "    train_losses = []\n",
        "    # train for the current epoch\n",
        "    model.train()\n",
        "    mri_dataset.mode = 'train'\n",
        "    for D in train_dataloader:\n",
        "        # Train the model\n",
        "        optimizer.zero_grad()\n",
        "        data = D['image'].to(device)\n",
        "        label = D['label'].to(device)\n",
        "        \n",
        "        y_hat = model(data)\n",
        "        error = nn.BCELoss()\n",
        "        loss = torch.sum(error(y_hat.squeeze(), label))\n",
        "        loss.backward()\n",
        "        optimizer.step()\n",
        "        train_losses.append(loss.item())\n",
        "\n",
        "    epoch_train_loss.append(np.mean(train_losses))\n",
        "\n",
        "    #validate for the current epoch\n",
        "    val_losses = []\n",
        "    model.eval()\n",
        "\n",
        "    mri_dataset.mode = 'val'\n",
        "\n",
        "    with torch.no_grad():\n",
        "        for D in val_dataloader:\n",
        "            data = D['image'].to(device)\n",
        "            label = D['label'].to(device)\n",
        "            y_hat = model(data)\n",
        "            error = nn.BCELoss()\n",
        "            loss = torch.sum(error(y_hat.squeeze(), label))\n",
        "            val_losses.append(loss.item())\n",
        "\n",
        "        epoch_val_loss.append(np.mean(val_losses))\n",
        "\n",
        "        if (epoch+1) % 10 == 0:\n",
        "            print('Train Epoch: {}\\tTrain Loss: {:.6f}\\tVal Loss: {:.6f}'.format(epoch+1, np.mean(train_losses),np.mean(val_losses)))"
      ]
    },
    {
      "cell_type": "code",
      "execution_count": null,
      "metadata": {},
      "outputs": [],
      "source": [
        "plt.figure(figsize=(16,9))\n",
        "plt.plot(epoch_train_loss, c='b', label='Train loss')\n",
        "plt.plot(epoch_val_loss, c='r', label = 'Validation loss')\n",
        "plt.legend()\n",
        "plt.grid()\n",
        "plt.xlabel('Epochs', fontsize=20)\n",
        "plt.ylabel('Loss', fontsize=20)"
      ]
    }
  ],
  "metadata": {
    "colab": {
      "provenance": []
    },
    "kernelspec": {
      "display_name": "Python 3",
      "name": "python3"
    },
    "language_info": {
      "codemirror_mode": {
        "name": "ipython",
        "version": 3
      },
      "file_extension": ".py",
      "mimetype": "text/x-python",
      "name": "python",
      "nbconvert_exporter": "python",
      "pygments_lexer": "ipython3",
      "version": "3.11.4"
    }
  },
  "nbformat": 4,
  "nbformat_minor": 0
}
